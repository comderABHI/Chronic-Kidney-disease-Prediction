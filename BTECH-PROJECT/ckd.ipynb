{
 "cells": [
  {
   "cell_type": "code",
   "execution_count": null,
   "metadata": {},
   "outputs": [],
   "source": []
  },
  {
   "cell_type": "code",
   "execution_count": 9,
   "metadata": {},
   "outputs": [],
   "source": [
    "import numpy as np\n",
    "import pandas as pd\n",
    "import matplotlib.pyplot as plt\n",
    "import seaborn as sns\n",
    "from sklearn.preprocessing import StandardScaler\n",
    "from sklearn.model_selection import train_test_split\n"
   ]
  },
  {
   "cell_type": "code",
   "execution_count": 10,
   "metadata": {},
   "outputs": [],
   "source": [
    "from sklearn.metrics import accuracy_score"
   ]
  },
  {
   "cell_type": "code",
   "execution_count": 11,
   "metadata": {},
   "outputs": [],
   "source": [
    "pd.set_option('future.no_silent_downcasting', True)"
   ]
  },
  {
   "cell_type": "code",
   "execution_count": 12,
   "metadata": {},
   "outputs": [],
   "source": [
    "file_path = r\"D:\\8th Semester\\BTECH-PROJECT\\dataset\\Chronic_Kidney_Dsease_data.csv\"\n",
    "df = pd.read_csv(file_path)"
   ]
  },
  {
   "cell_type": "code",
   "execution_count": 13,
   "metadata": {},
   "outputs": [
    {
     "data": {
      "text/html": [
       "<div>\n",
       "<style scoped>\n",
       "    .dataframe tbody tr th:only-of-type {\n",
       "        vertical-align: middle;\n",
       "    }\n",
       "\n",
       "    .dataframe tbody tr th {\n",
       "        vertical-align: top;\n",
       "    }\n",
       "\n",
       "    .dataframe thead th {\n",
       "        text-align: right;\n",
       "    }\n",
       "</style>\n",
       "<table border=\"1\" class=\"dataframe\">\n",
       "  <thead>\n",
       "    <tr style=\"text-align: right;\">\n",
       "      <th></th>\n",
       "      <th>PatientID</th>\n",
       "      <th>Age</th>\n",
       "      <th>Gender</th>\n",
       "      <th>Ethnicity</th>\n",
       "      <th>SocioeconomicStatus</th>\n",
       "      <th>EducationLevel</th>\n",
       "      <th>BMI</th>\n",
       "      <th>Smoking</th>\n",
       "      <th>AlcoholConsumption</th>\n",
       "      <th>PhysicalActivity</th>\n",
       "      <th>...</th>\n",
       "      <th>Itching</th>\n",
       "      <th>QualityOfLifeScore</th>\n",
       "      <th>HeavyMetalsExposure</th>\n",
       "      <th>OccupationalExposureChemicals</th>\n",
       "      <th>WaterQuality</th>\n",
       "      <th>MedicalCheckupsFrequency</th>\n",
       "      <th>MedicationAdherence</th>\n",
       "      <th>HealthLiteracy</th>\n",
       "      <th>Diagnosis</th>\n",
       "      <th>DoctorInCharge</th>\n",
       "    </tr>\n",
       "  </thead>\n",
       "  <tbody>\n",
       "    <tr>\n",
       "      <th>0</th>\n",
       "      <td>1</td>\n",
       "      <td>71</td>\n",
       "      <td>0</td>\n",
       "      <td>0</td>\n",
       "      <td>0</td>\n",
       "      <td>2</td>\n",
       "      <td>31.069414</td>\n",
       "      <td>1</td>\n",
       "      <td>5.128112</td>\n",
       "      <td>1.676220</td>\n",
       "      <td>...</td>\n",
       "      <td>7.556302</td>\n",
       "      <td>76.076800</td>\n",
       "      <td>0</td>\n",
       "      <td>0</td>\n",
       "      <td>1</td>\n",
       "      <td>1.018824</td>\n",
       "      <td>4.966808</td>\n",
       "      <td>9.871449</td>\n",
       "      <td>1</td>\n",
       "      <td>Confidential</td>\n",
       "    </tr>\n",
       "    <tr>\n",
       "      <th>1</th>\n",
       "      <td>2</td>\n",
       "      <td>34</td>\n",
       "      <td>0</td>\n",
       "      <td>0</td>\n",
       "      <td>1</td>\n",
       "      <td>3</td>\n",
       "      <td>29.692119</td>\n",
       "      <td>1</td>\n",
       "      <td>18.609552</td>\n",
       "      <td>8.377574</td>\n",
       "      <td>...</td>\n",
       "      <td>6.836766</td>\n",
       "      <td>40.128498</td>\n",
       "      <td>0</td>\n",
       "      <td>0</td>\n",
       "      <td>0</td>\n",
       "      <td>3.923538</td>\n",
       "      <td>8.189275</td>\n",
       "      <td>7.161765</td>\n",
       "      <td>1</td>\n",
       "      <td>Confidential</td>\n",
       "    </tr>\n",
       "    <tr>\n",
       "      <th>2</th>\n",
       "      <td>3</td>\n",
       "      <td>80</td>\n",
       "      <td>1</td>\n",
       "      <td>1</td>\n",
       "      <td>0</td>\n",
       "      <td>1</td>\n",
       "      <td>37.394822</td>\n",
       "      <td>1</td>\n",
       "      <td>11.882429</td>\n",
       "      <td>9.607401</td>\n",
       "      <td>...</td>\n",
       "      <td>2.144722</td>\n",
       "      <td>92.872842</td>\n",
       "      <td>0</td>\n",
       "      <td>1</td>\n",
       "      <td>1</td>\n",
       "      <td>1.429906</td>\n",
       "      <td>7.624028</td>\n",
       "      <td>7.354632</td>\n",
       "      <td>1</td>\n",
       "      <td>Confidential</td>\n",
       "    </tr>\n",
       "    <tr>\n",
       "      <th>3</th>\n",
       "      <td>4</td>\n",
       "      <td>40</td>\n",
       "      <td>0</td>\n",
       "      <td>2</td>\n",
       "      <td>0</td>\n",
       "      <td>1</td>\n",
       "      <td>31.329680</td>\n",
       "      <td>0</td>\n",
       "      <td>16.020165</td>\n",
       "      <td>0.408871</td>\n",
       "      <td>...</td>\n",
       "      <td>7.077188</td>\n",
       "      <td>90.080321</td>\n",
       "      <td>0</td>\n",
       "      <td>0</td>\n",
       "      <td>0</td>\n",
       "      <td>3.226416</td>\n",
       "      <td>3.282688</td>\n",
       "      <td>6.629587</td>\n",
       "      <td>1</td>\n",
       "      <td>Confidential</td>\n",
       "    </tr>\n",
       "    <tr>\n",
       "      <th>4</th>\n",
       "      <td>5</td>\n",
       "      <td>43</td>\n",
       "      <td>0</td>\n",
       "      <td>1</td>\n",
       "      <td>1</td>\n",
       "      <td>2</td>\n",
       "      <td>23.726311</td>\n",
       "      <td>0</td>\n",
       "      <td>7.944146</td>\n",
       "      <td>0.780319</td>\n",
       "      <td>...</td>\n",
       "      <td>3.553118</td>\n",
       "      <td>5.258372</td>\n",
       "      <td>0</td>\n",
       "      <td>0</td>\n",
       "      <td>1</td>\n",
       "      <td>0.285466</td>\n",
       "      <td>3.849498</td>\n",
       "      <td>1.437385</td>\n",
       "      <td>1</td>\n",
       "      <td>Confidential</td>\n",
       "    </tr>\n",
       "    <tr>\n",
       "      <th>...</th>\n",
       "      <td>...</td>\n",
       "      <td>...</td>\n",
       "      <td>...</td>\n",
       "      <td>...</td>\n",
       "      <td>...</td>\n",
       "      <td>...</td>\n",
       "      <td>...</td>\n",
       "      <td>...</td>\n",
       "      <td>...</td>\n",
       "      <td>...</td>\n",
       "      <td>...</td>\n",
       "      <td>...</td>\n",
       "      <td>...</td>\n",
       "      <td>...</td>\n",
       "      <td>...</td>\n",
       "      <td>...</td>\n",
       "      <td>...</td>\n",
       "      <td>...</td>\n",
       "      <td>...</td>\n",
       "      <td>...</td>\n",
       "      <td>...</td>\n",
       "    </tr>\n",
       "    <tr>\n",
       "      <th>1654</th>\n",
       "      <td>1655</td>\n",
       "      <td>90</td>\n",
       "      <td>0</td>\n",
       "      <td>0</td>\n",
       "      <td>1</td>\n",
       "      <td>2</td>\n",
       "      <td>39.677059</td>\n",
       "      <td>1</td>\n",
       "      <td>1.370151</td>\n",
       "      <td>4.157954</td>\n",
       "      <td>...</td>\n",
       "      <td>2.138976</td>\n",
       "      <td>81.102765</td>\n",
       "      <td>0</td>\n",
       "      <td>0</td>\n",
       "      <td>0</td>\n",
       "      <td>0.951836</td>\n",
       "      <td>9.547583</td>\n",
       "      <td>2.046212</td>\n",
       "      <td>0</td>\n",
       "      <td>Confidential</td>\n",
       "    </tr>\n",
       "    <tr>\n",
       "      <th>1655</th>\n",
       "      <td>1656</td>\n",
       "      <td>34</td>\n",
       "      <td>0</td>\n",
       "      <td>0</td>\n",
       "      <td>2</td>\n",
       "      <td>1</td>\n",
       "      <td>28.922015</td>\n",
       "      <td>0</td>\n",
       "      <td>3.372073</td>\n",
       "      <td>9.647525</td>\n",
       "      <td>...</td>\n",
       "      <td>7.911566</td>\n",
       "      <td>10.600428</td>\n",
       "      <td>0</td>\n",
       "      <td>1</td>\n",
       "      <td>0</td>\n",
       "      <td>3.604147</td>\n",
       "      <td>1.609847</td>\n",
       "      <td>0.324417</td>\n",
       "      <td>0</td>\n",
       "      <td>Confidential</td>\n",
       "    </tr>\n",
       "    <tr>\n",
       "      <th>1656</th>\n",
       "      <td>1657</td>\n",
       "      <td>84</td>\n",
       "      <td>0</td>\n",
       "      <td>0</td>\n",
       "      <td>2</td>\n",
       "      <td>3</td>\n",
       "      <td>21.951219</td>\n",
       "      <td>0</td>\n",
       "      <td>15.825955</td>\n",
       "      <td>7.349964</td>\n",
       "      <td>...</td>\n",
       "      <td>0.015531</td>\n",
       "      <td>69.633427</td>\n",
       "      <td>0</td>\n",
       "      <td>0</td>\n",
       "      <td>0</td>\n",
       "      <td>0.801955</td>\n",
       "      <td>5.768617</td>\n",
       "      <td>4.935108</td>\n",
       "      <td>0</td>\n",
       "      <td>Confidential</td>\n",
       "    </tr>\n",
       "    <tr>\n",
       "      <th>1657</th>\n",
       "      <td>1658</td>\n",
       "      <td>90</td>\n",
       "      <td>0</td>\n",
       "      <td>0</td>\n",
       "      <td>2</td>\n",
       "      <td>2</td>\n",
       "      <td>24.964149</td>\n",
       "      <td>0</td>\n",
       "      <td>12.967462</td>\n",
       "      <td>0.618614</td>\n",
       "      <td>...</td>\n",
       "      <td>3.432765</td>\n",
       "      <td>31.858023</td>\n",
       "      <td>0</td>\n",
       "      <td>0</td>\n",
       "      <td>0</td>\n",
       "      <td>0.560298</td>\n",
       "      <td>2.744519</td>\n",
       "      <td>0.322592</td>\n",
       "      <td>1</td>\n",
       "      <td>Confidential</td>\n",
       "    </tr>\n",
       "    <tr>\n",
       "      <th>1658</th>\n",
       "      <td>1659</td>\n",
       "      <td>34</td>\n",
       "      <td>1</td>\n",
       "      <td>1</td>\n",
       "      <td>0</td>\n",
       "      <td>0</td>\n",
       "      <td>19.253258</td>\n",
       "      <td>1</td>\n",
       "      <td>11.396510</td>\n",
       "      <td>7.446314</td>\n",
       "      <td>...</td>\n",
       "      <td>9.293499</td>\n",
       "      <td>82.314878</td>\n",
       "      <td>0</td>\n",
       "      <td>0</td>\n",
       "      <td>0</td>\n",
       "      <td>1.754852</td>\n",
       "      <td>0.186400</td>\n",
       "      <td>4.553608</td>\n",
       "      <td>1</td>\n",
       "      <td>Confidential</td>\n",
       "    </tr>\n",
       "  </tbody>\n",
       "</table>\n",
       "<p>1659 rows × 54 columns</p>\n",
       "</div>"
      ],
      "text/plain": [
       "      PatientID  Age  Gender  Ethnicity  SocioeconomicStatus  EducationLevel  \\\n",
       "0             1   71       0          0                    0               2   \n",
       "1             2   34       0          0                    1               3   \n",
       "2             3   80       1          1                    0               1   \n",
       "3             4   40       0          2                    0               1   \n",
       "4             5   43       0          1                    1               2   \n",
       "...         ...  ...     ...        ...                  ...             ...   \n",
       "1654       1655   90       0          0                    1               2   \n",
       "1655       1656   34       0          0                    2               1   \n",
       "1656       1657   84       0          0                    2               3   \n",
       "1657       1658   90       0          0                    2               2   \n",
       "1658       1659   34       1          1                    0               0   \n",
       "\n",
       "            BMI  Smoking  AlcoholConsumption  PhysicalActivity  ...   Itching  \\\n",
       "0     31.069414        1            5.128112          1.676220  ...  7.556302   \n",
       "1     29.692119        1           18.609552          8.377574  ...  6.836766   \n",
       "2     37.394822        1           11.882429          9.607401  ...  2.144722   \n",
       "3     31.329680        0           16.020165          0.408871  ...  7.077188   \n",
       "4     23.726311        0            7.944146          0.780319  ...  3.553118   \n",
       "...         ...      ...                 ...               ...  ...       ...   \n",
       "1654  39.677059        1            1.370151          4.157954  ...  2.138976   \n",
       "1655  28.922015        0            3.372073          9.647525  ...  7.911566   \n",
       "1656  21.951219        0           15.825955          7.349964  ...  0.015531   \n",
       "1657  24.964149        0           12.967462          0.618614  ...  3.432765   \n",
       "1658  19.253258        1           11.396510          7.446314  ...  9.293499   \n",
       "\n",
       "      QualityOfLifeScore  HeavyMetalsExposure  OccupationalExposureChemicals  \\\n",
       "0              76.076800                    0                              0   \n",
       "1              40.128498                    0                              0   \n",
       "2              92.872842                    0                              1   \n",
       "3              90.080321                    0                              0   \n",
       "4               5.258372                    0                              0   \n",
       "...                  ...                  ...                            ...   \n",
       "1654           81.102765                    0                              0   \n",
       "1655           10.600428                    0                              1   \n",
       "1656           69.633427                    0                              0   \n",
       "1657           31.858023                    0                              0   \n",
       "1658           82.314878                    0                              0   \n",
       "\n",
       "      WaterQuality  MedicalCheckupsFrequency  MedicationAdherence  \\\n",
       "0                1                  1.018824             4.966808   \n",
       "1                0                  3.923538             8.189275   \n",
       "2                1                  1.429906             7.624028   \n",
       "3                0                  3.226416             3.282688   \n",
       "4                1                  0.285466             3.849498   \n",
       "...            ...                       ...                  ...   \n",
       "1654             0                  0.951836             9.547583   \n",
       "1655             0                  3.604147             1.609847   \n",
       "1656             0                  0.801955             5.768617   \n",
       "1657             0                  0.560298             2.744519   \n",
       "1658             0                  1.754852             0.186400   \n",
       "\n",
       "      HealthLiteracy  Diagnosis  DoctorInCharge  \n",
       "0           9.871449          1    Confidential  \n",
       "1           7.161765          1    Confidential  \n",
       "2           7.354632          1    Confidential  \n",
       "3           6.629587          1    Confidential  \n",
       "4           1.437385          1    Confidential  \n",
       "...              ...        ...             ...  \n",
       "1654        2.046212          0    Confidential  \n",
       "1655        0.324417          0    Confidential  \n",
       "1656        4.935108          0    Confidential  \n",
       "1657        0.322592          1    Confidential  \n",
       "1658        4.553608          1    Confidential  \n",
       "\n",
       "[1659 rows x 54 columns]"
      ]
     },
     "execution_count": 13,
     "metadata": {},
     "output_type": "execute_result"
    }
   ],
   "source": [
    "df\n",
    "\n"
   ]
  },
  {
   "cell_type": "code",
   "execution_count": 14,
   "metadata": {},
   "outputs": [
    {
     "name": "stdout",
     "output_type": "stream",
     "text": [
      "<class 'pandas.core.frame.DataFrame'>\n",
      "RangeIndex: 1659 entries, 0 to 1658\n",
      "Data columns (total 54 columns):\n",
      " #   Column                         Non-Null Count  Dtype  \n",
      "---  ------                         --------------  -----  \n",
      " 0   PatientID                      1659 non-null   int64  \n",
      " 1   Age                            1659 non-null   int64  \n",
      " 2   Gender                         1659 non-null   int64  \n",
      " 3   Ethnicity                      1659 non-null   int64  \n",
      " 4   SocioeconomicStatus            1659 non-null   int64  \n",
      " 5   EducationLevel                 1659 non-null   int64  \n",
      " 6   BMI                            1659 non-null   float64\n",
      " 7   Smoking                        1659 non-null   int64  \n",
      " 8   AlcoholConsumption             1659 non-null   float64\n",
      " 9   PhysicalActivity               1659 non-null   float64\n",
      " 10  DietQuality                    1659 non-null   float64\n",
      " 11  SleepQuality                   1659 non-null   float64\n",
      " 12  FamilyHistoryKidneyDisease     1659 non-null   int64  \n",
      " 13  FamilyHistoryHypertension      1659 non-null   int64  \n",
      " 14  FamilyHistoryDiabetes          1659 non-null   int64  \n",
      " 15  PreviousAcuteKidneyInjury      1659 non-null   int64  \n",
      " 16  UrinaryTractInfections         1659 non-null   int64  \n",
      " 17  SystolicBP                     1659 non-null   int64  \n",
      " 18  DiastolicBP                    1659 non-null   int64  \n",
      " 19  FastingBloodSugar              1659 non-null   float64\n",
      " 20  HbA1c                          1659 non-null   float64\n",
      " 21  SerumCreatinine                1659 non-null   float64\n",
      " 22  BUNLevels                      1659 non-null   float64\n",
      " 23  GFR                            1659 non-null   float64\n",
      " 24  ProteinInUrine                 1659 non-null   float64\n",
      " 25  ACR                            1659 non-null   float64\n",
      " 26  SerumElectrolytesSodium        1659 non-null   float64\n",
      " 27  SerumElectrolytesPotassium     1659 non-null   float64\n",
      " 28  SerumElectrolytesCalcium       1659 non-null   float64\n",
      " 29  SerumElectrolytesPhosphorus    1659 non-null   float64\n",
      " 30  HemoglobinLevels               1659 non-null   float64\n",
      " 31  CholesterolTotal               1659 non-null   float64\n",
      " 32  CholesterolLDL                 1659 non-null   float64\n",
      " 33  CholesterolHDL                 1659 non-null   float64\n",
      " 34  CholesterolTriglycerides       1659 non-null   float64\n",
      " 35  ACEInhibitors                  1659 non-null   int64  \n",
      " 36  Diuretics                      1659 non-null   int64  \n",
      " 37  NSAIDsUse                      1659 non-null   float64\n",
      " 38  Statins                        1659 non-null   int64  \n",
      " 39  AntidiabeticMedications        1659 non-null   int64  \n",
      " 40  Edema                          1659 non-null   int64  \n",
      " 41  FatigueLevels                  1659 non-null   float64\n",
      " 42  NauseaVomiting                 1659 non-null   float64\n",
      " 43  MuscleCramps                   1659 non-null   float64\n",
      " 44  Itching                        1659 non-null   float64\n",
      " 45  QualityOfLifeScore             1659 non-null   float64\n",
      " 46  HeavyMetalsExposure            1659 non-null   int64  \n",
      " 47  OccupationalExposureChemicals  1659 non-null   int64  \n",
      " 48  WaterQuality                   1659 non-null   int64  \n",
      " 49  MedicalCheckupsFrequency       1659 non-null   float64\n",
      " 50  MedicationAdherence            1659 non-null   float64\n",
      " 51  HealthLiteracy                 1659 non-null   float64\n",
      " 52  Diagnosis                      1659 non-null   int64  \n",
      " 53  DoctorInCharge                 1659 non-null   object \n",
      "dtypes: float64(30), int64(23), object(1)\n",
      "memory usage: 700.0+ KB\n",
      "Index(['PatientID', 'Age', 'Gender', 'Ethnicity', 'SocioeconomicStatus',\n",
      "       'EducationLevel', 'BMI', 'Smoking', 'AlcoholConsumption',\n",
      "       'PhysicalActivity', 'DietQuality', 'SleepQuality',\n",
      "       'FamilyHistoryKidneyDisease', 'FamilyHistoryHypertension',\n",
      "       'FamilyHistoryDiabetes', 'PreviousAcuteKidneyInjury',\n",
      "       'UrinaryTractInfections', 'SystolicBP', 'DiastolicBP',\n",
      "       'FastingBloodSugar', 'HbA1c', 'SerumCreatinine', 'BUNLevels', 'GFR',\n",
      "       'ProteinInUrine', 'ACR', 'SerumElectrolytesSodium',\n",
      "       'SerumElectrolytesPotassium', 'SerumElectrolytesCalcium',\n",
      "       'SerumElectrolytesPhosphorus', 'HemoglobinLevels', 'CholesterolTotal',\n",
      "       'CholesterolLDL', 'CholesterolHDL', 'CholesterolTriglycerides',\n",
      "       'ACEInhibitors', 'Diuretics', 'NSAIDsUse', 'Statins',\n",
      "       'AntidiabeticMedications', 'Edema', 'FatigueLevels', 'NauseaVomiting',\n",
      "       'MuscleCramps', 'Itching', 'QualityOfLifeScore', 'HeavyMetalsExposure',\n",
      "       'OccupationalExposureChemicals', 'WaterQuality',\n",
      "       'MedicalCheckupsFrequency', 'MedicationAdherence', 'HealthLiteracy',\n",
      "       'Diagnosis', 'DoctorInCharge'],\n",
      "      dtype='object')\n"
     ]
    }
   ],
   "source": [
    "df.info()\n",
    "print(df.columns)\n"
   ]
  },
  {
   "cell_type": "code",
   "execution_count": 15,
   "metadata": {},
   "outputs": [
    {
     "data": {
      "text/plain": [
       "Diagnosis\n",
       "1    1524\n",
       "0     135\n",
       "Name: count, dtype: int64"
      ]
     },
     "execution_count": 15,
     "metadata": {},
     "output_type": "execute_result"
    }
   ],
   "source": [
    "df['Diagnosis'].value_counts()\n"
   ]
  },
  {
   "cell_type": "code",
   "execution_count": 16,
   "metadata": {},
   "outputs": [
    {
     "data": {
      "text/plain": [
       "Gender\n",
       "1    855\n",
       "0    804\n",
       "Name: count, dtype: int64"
      ]
     },
     "execution_count": 16,
     "metadata": {},
     "output_type": "execute_result"
    }
   ],
   "source": [
    "df['Gender'].value_counts()\n"
   ]
  },
  {
   "cell_type": "code",
   "execution_count": 17,
   "metadata": {},
   "outputs": [],
   "source": [
    "df1 = df.copy()"
   ]
  },
  {
   "cell_type": "code",
   "execution_count": 18,
   "metadata": {},
   "outputs": [
    {
     "name": "stdout",
     "output_type": "stream",
     "text": [
      "Class Distribution:\n",
      " Diagnosis\n",
      "yes    1524\n",
      "no      135\n",
      "Name: count, dtype: int64\n",
      "Balanced Class Distribution:\n",
      " Diagnosis\n",
      "no     135\n",
      "yes    135\n",
      "Name: count, dtype: int64\n"
     ]
    }
   ],
   "source": [
    "Column = 'Diagnosis'\n",
    "\n",
    "# Convert column to integer first (to ensure 1 and 0 are treated as numbers)\n",
    "df1[Column] = df1[Column].astype(int)\n",
    "\n",
    "# Now replace 1 → 'yes' and 0 → 'no'\n",
    "df1[Column] = df1[Column].replace({1: 'yes', 0: 'no'})\n",
    "\n",
    "# Convert everything to lowercase (just in case)\n",
    "df1[Column] = df1[Column].astype(str).str.strip().str.lower()\n",
    "\n",
    "# Print class distribution\n",
    "class_counts = df1[Column].value_counts()\n",
    "print(\"Class Distribution:\\n\", class_counts)\n",
    "\n",
    "# Expected values\n",
    "expected_yes, expected_no = 'yes', 'no'\n",
    "\n",
    "# Check if both categories exist\n",
    "if expected_yes in class_counts and expected_no in class_counts:\n",
    "    min_count = min(class_counts[expected_yes], class_counts[expected_no])\n",
    "\n",
    "    # Perform undersampling only if both categories exist\n",
    "    df_no = df1[df1[Column] == expected_no].sample(min_count, random_state=42)\n",
    "    df_yes = df1[df1[Column] == expected_yes].sample(min_count, random_state=42)\n",
    "\n",
    "    # Combine and shuffle\n",
    "    balanced_df = pd.concat([df_no, df_yes]).sample(frac=1, random_state=42).reset_index(drop=True)\n",
    "\n",
    "    print(\"Balanced Class Distribution:\\n\", balanced_df[Column].value_counts())\n",
    "else:\n",
    "    print(f\"Error: One or both expected values ('{expected_yes}', '{expected_no}') are missing in the column.\")\n"
   ]
  },
  {
   "cell_type": "code",
   "execution_count": 19,
   "metadata": {},
   "outputs": [
    {
     "name": "stdout",
     "output_type": "stream",
     "text": [
      "Balanced dataset copied successfully.\n"
     ]
    }
   ],
   "source": [
    "if 'balanced_df' in locals():  # Check if balanced_df was created\n",
    "    df2 = balanced_df.copy()\n",
    "    print(\"Balanced dataset copied successfully.\")\n",
    "else:\n",
    "    print(\"Error: balanced_df was not created. Check previous steps for issues.\")\n"
   ]
  },
  {
   "cell_type": "markdown",
   "metadata": {},
   "source": [
    "Cleaning Dataset"
   ]
  },
  {
   "cell_type": "code",
   "execution_count": 20,
   "metadata": {},
   "outputs": [
    {
     "data": {
      "text/plain": [
       "Gender\n",
       "0    140\n",
       "1    130\n",
       "Name: count, dtype: int64"
      ]
     },
     "execution_count": 20,
     "metadata": {},
     "output_type": "execute_result"
    }
   ],
   "source": [
    "df2['Gender'].value_counts()"
   ]
  },
  {
   "cell_type": "markdown",
   "metadata": {},
   "source": [
    "PEARSON CORRELATION"
   ]
  },
  {
   "cell_type": "code",
   "execution_count": 21,
   "metadata": {},
   "outputs": [
    {
     "name": "stdout",
     "output_type": "stream",
     "text": [
      "\n",
      "Top 10 Features Impacting CKD Diagnosis:\n",
      "\n",
      "SerumCreatinine      0.201125\n",
      "GFR                  0.175988\n",
      "Itching              0.100652\n",
      "FastingBloodSugar    0.095694\n",
      "MuscleCramps         0.094811\n",
      "BUNLevels            0.093097\n",
      "ProteinInUrine       0.090014\n",
      "SystolicBP           0.083528\n",
      "HbA1c                0.059999\n",
      "BMI                  0.055222\n",
      "Name: Diagnosis, dtype: float64\n"
     ]
    },
    {
     "data": {
      "image/png": "[encoded data removed]",
      "text/plain": [
       "<Figure size 1000x600 with 1 Axes>"
      ]
     },
     "metadata": {},
     "output_type": "display_data"
    }
   ],
   "source": [
    "\n",
    "import pandas as pd\n",
    "import seaborn as sns\n",
    "import matplotlib.pyplot as plt\n",
    "\n",
    "# 🔹 Load the balanced dataset from the specified path\n",
    "file_path = r\"D:\\8th Semester\\BTECH-PROJECT\\dataset\\Chronic_Kidney_Dsease_data.csv\"\n",
    "df = pd.read_csv(file_path)\n",
    "\n",
    "# 🔹 Convert \"Diagnosis\" to numerical values (1 for CKD, 0 for Non-CKD)\n",
    "df['Diagnosis'] = df['Diagnosis'].astype('category').cat.codes\n",
    "\n",
    "# 🔹 Select only numeric columns\n",
    "df_numeric = df.select_dtypes(include=['number'])\n",
    "\n",
    "# 🔹 Drop 'PatientID' if it's present (case-sensitive!)\n",
    "df_numeric = df_numeric.drop(columns=['PatientID'], errors='ignore')\n",
    "\n",
    "# 🔹 Compute the Pearson correlation matrix\n",
    "correlation_matrix = df_numeric.corr(method='pearson')\n",
    "\n",
    "# 🔹 Select correlations with the target variable (Diagnosis)\n",
    "diagnosis_correlation = correlation_matrix['Diagnosis'].abs().sort_values(ascending=False)\n",
    "\n",
    "# 🔹 Select the top 10 most correlated features (excluding \"Diagnosis\" itself)\n",
    "top_10_features = diagnosis_correlation.index[1:11]\n",
    "top_10_correlations = diagnosis_correlation[1:11]\n",
    "\n",
    "# 🔹 Display the top 10 features and their correlation values\n",
    "print(\"\\nTop 10 Features Impacting CKD Diagnosis:\\n\")\n",
    "print(top_10_correlations)\n",
    "\n",
    "# 🔹 Plot Bar Graph for Top 10 Features\n",
    "plt.figure(figsize=(10, 6))\n",
    "sns.barplot(x=top_10_correlations.values, y=top_10_correlations.index, hue=top_10_correlations.index, palette='coolwarm', legend=False)\n",
    "plt.xlabel(\"Pearson Correlation with Diagnosis\")\n",
    "plt.ylabel(\"Features\")\n",
    "plt.title(\"Top 10 Features Impacting CKD Diagnosis\")\n",
    "plt.tight_layout()\n",
    "plt.show()\n",
    "\n",
    "\n"
   ]
  },
  {
   "cell_type": "markdown",
   "metadata": {},
   "source": [
    "FILTERING"
   ]
  },
  {
   "cell_type": "code",
   "execution_count": 22,
   "metadata": {},
   "outputs": [
    {
     "name": "stdout",
     "output_type": "stream",
     "text": [
      "Filtering Completed! Removed 'DoctorInCharge', low variance & highly correlated features.\n",
      "Features after filtering: ['PatientID', 'Age', 'Gender', 'Ethnicity', 'SocioeconomicStatus', 'EducationLevel', 'BMI', 'Smoking', 'AlcoholConsumption', 'PhysicalActivity', 'DietQuality', 'SleepQuality', 'FamilyHistoryKidneyDisease', 'FamilyHistoryHypertension', 'FamilyHistoryDiabetes', 'PreviousAcuteKidneyInjury', 'UrinaryTractInfections', 'SystolicBP', 'DiastolicBP', 'FastingBloodSugar', 'HbA1c', 'SerumCreatinine', 'BUNLevels', 'GFR', 'ProteinInUrine', 'ACR', 'SerumElectrolytesSodium', 'SerumElectrolytesPotassium', 'SerumElectrolytesCalcium', 'SerumElectrolytesPhosphorus', 'HemoglobinLevels', 'CholesterolTotal', 'CholesterolLDL', 'CholesterolHDL', 'CholesterolTriglycerides', 'ACEInhibitors', 'Diuretics', 'NSAIDsUse', 'Statins', 'AntidiabeticMedications', 'Edema', 'FatigueLevels', 'NauseaVomiting', 'MuscleCramps', 'Itching', 'QualityOfLifeScore', 'HeavyMetalsExposure', 'OccupationalExposureChemicals', 'WaterQuality', 'MedicalCheckupsFrequency', 'MedicationAdherence', 'HealthLiteracy', 'Diagnosis']\n"
     ]
    }
   ],
   "source": [
    "import pandas as pd\n",
    "\n",
    "# Create a copy of the original dataset\n",
    "df_cleaned = df.copy()\n",
    "\n",
    "# Drop the \"DoctorInCharge\" column\n",
    "if \"DoctorInCharge\" in df_cleaned.columns:\n",
    "    df_cleaned.drop(columns=[\"DoctorInCharge\"], inplace=True)\n",
    "\n",
    "# Select only numeric columns\n",
    "numeric_df = df_cleaned.select_dtypes(include=['number'])\n",
    "\n",
    "# Remove columns with very low variance (almost constant values)\n",
    "low_variance_threshold = 0.01\n",
    "low_variance_cols = numeric_df.var()[numeric_df.var() < low_variance_threshold].index\n",
    "df_cleaned.drop(columns=low_variance_cols, inplace=True)\n",
    "\n",
    "# Remove highly correlated features (above 0.9 correlation)\n",
    "correlation_matrix = numeric_df.corr()\n",
    "high_corr_features = set()\n",
    "\n",
    "for i in range(len(correlation_matrix.columns)):\n",
    "    for j in range(i):\n",
    "        if abs(correlation_matrix.iloc[i, j]) > 0.9:  # Correlation threshold\n",
    "            colname = correlation_matrix.columns[i]\n",
    "            high_corr_features.add(colname)\n",
    "\n",
    "df_cleaned.drop(columns=high_corr_features, inplace=True)\n",
    "\n",
    "print(\"Filtering Completed! Removed 'DoctorInCharge', low variance & highly correlated features.\")\n",
    "print(\"Features after filtering:\", df_cleaned.columns.tolist())\n"
   ]
  },
  {
   "cell_type": "markdown",
   "metadata": {},
   "source": [
    "DATA PREPROCESSING"
   ]
  },
  {
   "cell_type": "code",
   "execution_count": 23,
   "metadata": {},
   "outputs": [
    {
     "name": "stdout",
     "output_type": "stream",
     "text": [
      "Feature Engineering Completed Successfully!\n",
      "Final Features after Feature Engineering: ['PatientID', 'Age', 'Gender', 'Ethnicity', 'SocioeconomicStatus', 'EducationLevel', 'BMI', 'Smoking', 'AlcoholConsumption', 'PhysicalActivity', 'DietQuality', 'SleepQuality', 'FamilyHistoryKidneyDisease', 'FamilyHistoryHypertension', 'FamilyHistoryDiabetes', 'PreviousAcuteKidneyInjury', 'UrinaryTractInfections', 'SystolicBP', 'DiastolicBP', 'FastingBloodSugar', 'HbA1c', 'SerumCreatinine', 'BUNLevels', 'GFR', 'ProteinInUrine', 'ACR', 'SerumElectrolytesSodium', 'SerumElectrolytesPotassium', 'SerumElectrolytesCalcium', 'SerumElectrolytesPhosphorus', 'HemoglobinLevels', 'CholesterolTotal', 'CholesterolLDL', 'CholesterolHDL', 'CholesterolTriglycerides', 'ACEInhibitors', 'Diuretics', 'NSAIDsUse', 'Statins', 'AntidiabeticMedications', 'Edema', 'FatigueLevels', 'NauseaVomiting', 'MuscleCramps', 'Itching', 'QualityOfLifeScore', 'HeavyMetalsExposure', 'OccupationalExposureChemicals', 'WaterQuality', 'MedicalCheckupsFrequency', 'MedicationAdherence', 'HealthLiteracy']\n"
     ]
    }
   ],
   "source": [
    "from sklearn.preprocessing import MinMaxScaler, LabelEncoder\n",
    "import pandas as pd\n",
    "\n",
    "# Make a copy to avoid modifying the original dataset\n",
    "df_cleaned = df.copy()\n",
    "\n",
    "# Step 1: Handle Missing Values\n",
    "for col in df_cleaned.columns:\n",
    "    if df_cleaned[col].dtype == 'object':  # Categorical column\n",
    "        df_cleaned[col] = df_cleaned[col].fillna(df_cleaned[col].mode()[0])  # Fill with mode\n",
    "    else:  # Numerical column\n",
    "        df_cleaned[col] = df_cleaned[col].fillna(df_cleaned[col].mean())  # Fill with mean\n",
    "\n",
    "# Step 2: Separate Features & Target Variable\n",
    "target_column = 'Diagnosis'  # Ensure this matches the actual column name\n",
    "if target_column in df_cleaned.columns:\n",
    "    y = df_cleaned[target_column]  # Target variable\n",
    "    X = df_cleaned.drop(columns=[target_column])  # Features\n",
    "else:\n",
    "    print(\"Warning: Target variable 'Diagnosis' not found!\")\n",
    "\n",
    "# Step 3: Normalize Numerical Features\n",
    "numerical_features = X.select_dtypes(include=['number']).columns\n",
    "scaler = MinMaxScaler()\n",
    "X[numerical_features] = scaler.fit_transform(X[numerical_features])\n",
    "\n",
    "# Step 4: Encode Categorical Features\n",
    "categorical_features = X.select_dtypes(include=['object']).columns\n",
    "\n",
    "for col in categorical_features:\n",
    "    if X[col].nunique() == 2:\n",
    "        # Binary categorical feature → Label Encode\n",
    "        encoder = LabelEncoder()\n",
    "        X[col] = encoder.fit_transform(X[col])\n",
    "    else:\n",
    "        # Multi-class categorical feature → One-Hot Encode\n",
    "        X = pd.get_dummies(X, columns=[col], drop_first=True)  # Avoids dummy variable trap\n",
    "\n",
    "# Final processed dataset\n",
    "print(\"Feature Engineering Completed Successfully!\")\n",
    "print(\"Final Features after Feature Engineering:\", X.columns.tolist())\n",
    "\n",
    "# Now 'X' contains the processed features, and 'y' is the target variable.\n"
   ]
  },
  {
   "cell_type": "code",
   "execution_count": 24,
   "metadata": {},
   "outputs": [
    {
     "name": "stdout",
     "output_type": "stream",
     "text": [
      " 'PatientID' restored in df_cleaned.\n",
      " 'PatientID' removed from training features and stored separately.\n",
      " Feature Engineering Completed Successfully!\n",
      "Final Features for Training: ['Age', 'Gender', 'Ethnicity', 'SocioeconomicStatus', 'EducationLevel', 'BMI', 'Smoking', 'AlcoholConsumption', 'PhysicalActivity', 'DietQuality', 'SleepQuality', 'FamilyHistoryKidneyDisease', 'FamilyHistoryHypertension', 'FamilyHistoryDiabetes', 'PreviousAcuteKidneyInjury', 'UrinaryTractInfections', 'SystolicBP', 'DiastolicBP', 'FastingBloodSugar', 'HbA1c', 'SerumCreatinine', 'BUNLevels', 'GFR', 'ProteinInUrine', 'ACR', 'SerumElectrolytesSodium', 'SerumElectrolytesPotassium', 'SerumElectrolytesCalcium', 'SerumElectrolytesPhosphorus', 'HemoglobinLevels', 'CholesterolTotal', 'CholesterolLDL', 'CholesterolHDL', 'CholesterolTriglycerides', 'ACEInhibitors', 'Diuretics', 'NSAIDsUse', 'Statins', 'AntidiabeticMedications', 'Edema', 'FatigueLevels', 'NauseaVomiting', 'MuscleCramps', 'Itching', 'QualityOfLifeScore', 'HeavyMetalsExposure', 'OccupationalExposureChemicals', 'WaterQuality', 'MedicalCheckupsFrequency', 'MedicationAdherence', 'HealthLiteracy', 'Diagnosis', 'DoctorInCharge']\n"
     ]
    }
   ],
   "source": [
    "import pandas as pd\n",
    "from sklearn.preprocessing import MinMaxScaler, LabelEncoder\n",
    "\n",
    "# Make a copy to avoid modifying the original dataset\n",
    "df_cleaned = df.copy()\n",
    "\n",
    "# 🔹 Restore 'PatientID' if it was removed\n",
    "if 'PatientID' not in df_cleaned.columns:\n",
    "    print(\" Warning: 'PatientID' column not found in df. Ensure it is present in the original dataset.\")\n",
    "else:\n",
    "    print(\" 'PatientID' restored in df_cleaned.\")\n",
    "\n",
    "# Step 1: Handle Missing Values\n",
    "for col in df_cleaned.columns:\n",
    "    if df_cleaned[col].dtype == 'object':  # Categorical column\n",
    "        df_cleaned[col] = df_cleaned[col].fillna(df_cleaned[col].mode()[0])  # Fill with mode\n",
    "    else:  # Numerical column\n",
    "        df_cleaned[col] = df_cleaned[col].fillna(df_cleaned[col].mean())  # Fill with mean\n",
    "\n",
    "# Step 2: Preserve 'PatientID' for later use\n",
    "patient_ids = df_cleaned[\"PatientID\"]\n",
    "\n",
    "# Step 3: Drop 'PatientID' from training features\n",
    "df_cleaned.drop(columns=[\"PatientID\"], inplace=True)\n",
    "print(\" 'PatientID' removed from training features and stored separately.\")\n",
    "\n",
    "# Step 4: Normalize Numerical Features\n",
    "numerical_features = df_cleaned.select_dtypes(include=['number']).columns\n",
    "scaler = MinMaxScaler()\n",
    "df_cleaned[numerical_features] = scaler.fit_transform(df_cleaned[numerical_features])\n",
    "\n",
    "# Step 5: Convert Categorical Features (Yes/No → 1/0)\n",
    "categorical_features = df_cleaned.select_dtypes(include=['object']).columns\n",
    "encoder = LabelEncoder()\n",
    "\n",
    "for col in categorical_features:\n",
    "    df_cleaned[col] = encoder.fit_transform(df_cleaned[col])\n",
    "\n",
    "print(\" Feature Engineering Completed Successfully!\")\n",
    "print(\"Final Features for Training:\", df_cleaned.columns.tolist())\n"
   ]
  },
  {
   "cell_type": "markdown",
   "metadata": {},
   "source": [
    "FEATURE SELECTION"
   ]
  },
  {
   "cell_type": "code",
   "execution_count": 25,
   "metadata": {},
   "outputs": [
    {
     "name": "stdout",
     "output_type": "stream",
     "text": [
      " 'DoctorInCharge' removed from dataset.\n",
      " Target Variable: 'Diagnosis' separated from features.\n",
      " Removed Highly Correlated Features: []\n",
      "Final Features After Selection: ['Age', 'Gender', 'Ethnicity', 'SocioeconomicStatus', 'EducationLevel', 'BMI', 'Smoking', 'AlcoholConsumption', 'PhysicalActivity', 'DietQuality', 'SleepQuality', 'FamilyHistoryKidneyDisease', 'FamilyHistoryHypertension', 'FamilyHistoryDiabetes', 'PreviousAcuteKidneyInjury', 'UrinaryTractInfections', 'SystolicBP', 'DiastolicBP', 'FastingBloodSugar', 'HbA1c', 'SerumCreatinine', 'BUNLevels', 'GFR', 'ProteinInUrine', 'ACR', 'SerumElectrolytesSodium', 'SerumElectrolytesPotassium', 'SerumElectrolytesCalcium', 'SerumElectrolytesPhosphorus', 'HemoglobinLevels', 'CholesterolTotal', 'CholesterolLDL', 'CholesterolHDL', 'CholesterolTriglycerides', 'ACEInhibitors', 'Diuretics', 'NSAIDsUse', 'Statins', 'AntidiabeticMedications', 'Edema', 'FatigueLevels', 'NauseaVomiting', 'MuscleCramps', 'Itching', 'QualityOfLifeScore', 'HeavyMetalsExposure', 'OccupationalExposureChemicals', 'WaterQuality', 'MedicalCheckupsFrequency', 'MedicationAdherence', 'HealthLiteracy']\n"
     ]
    }
   ],
   "source": [
    "\n",
    "# Drop 'DoctorInCharge' (as it contains confidential data)\n",
    "if \"DoctorInCharge\" in df_cleaned.columns:\n",
    "    df_cleaned.drop(columns=[\"DoctorInCharge\"], inplace=True)\n",
    "    print(\" 'DoctorInCharge' removed from dataset.\")\n",
    "\n",
    "#  Separate Target Variable\n",
    "target_column = \"Diagnosis\"\n",
    "X = df_cleaned.drop(columns=[target_column])  # Features\n",
    "y = df_cleaned[target_column]  # Target Variable\n",
    "print(f\" Target Variable: '{target_column}' separated from features.\")\n",
    "\n",
    "#  Check & Remove Highly Correlated Features (Threshold: 0.9)\n",
    "correlation_matrix = X.corr().abs()\n",
    "high_corr_features = set()\n",
    "\n",
    "for i in range(len(correlation_matrix.columns)):\n",
    "    for j in range(i):\n",
    "        if correlation_matrix.iloc[i, j] > 0.9:  # High correlation threshold\n",
    "            colname = correlation_matrix.columns[i]\n",
    "            high_corr_features.add(colname)\n",
    "\n",
    "X.drop(columns=high_corr_features, inplace=True)\n",
    "print(f\" Removed Highly Correlated Features: {list(high_corr_features)}\")\n",
    "\n",
    "#  Final Features After Selection\n",
    "print(\"Final Features After Selection:\", X.columns.tolist())\n"
   ]
  },
  {
   "cell_type": "markdown",
   "metadata": {},
   "source": [
    "TRAIN-TEST-SPLIT"
   ]
  },
  {
   "cell_type": "code",
   "execution_count": 26,
   "metadata": {},
   "outputs": [
    {
     "name": "stdout",
     "output_type": "stream",
     "text": [
      " 'PatientID' restored in df_cleaned.\n"
     ]
    }
   ],
   "source": [
    "# Reload 'PatientID' from the original dataset\n",
    "if \"PatientID\" not in df_cleaned.columns:\n",
    "    df_cleaned[\"PatientID\"] = df[\"PatientID\"]\n",
    "    print(\" 'PatientID' restored in df_cleaned.\")\n",
    "else:\n",
    "    print(\" 'PatientID' already exists in df_cleaned.\")\n"
   ]
  },
  {
   "cell_type": "markdown",
   "metadata": {},
   "source": [
    "TRAIN AND TEST"
   ]
  },
  {
   "cell_type": "code",
   "execution_count": 27,
   "metadata": {},
   "outputs": [
    {
     "name": "stdout",
     "output_type": "stream",
     "text": [
      " Data split completed!\n",
      "Training samples: 1327, Testing samples: 332\n"
     ]
    }
   ],
   "source": [
    "from sklearn.model_selection import train_test_split\n",
    "\n",
    "# 🔹 Step 1: Preserve 'PatientID' for later analysis\n",
    "patient_ids = df_cleaned[\"PatientID\"]\n",
    "\n",
    "# 🔹 Step 2: Define Features (X) and Target (y)\n",
    "X = df_cleaned.drop(columns=[\"PatientID\", \"Diagnosis\"])  # Exclude PatientID & Target\n",
    "y = df_cleaned[\"Diagnosis\"]  # Target variable (CKD diagnosis)\n",
    "\n",
    "# 🔹 Step 3: Split into Training & Testing Sets\n",
    "X_train, X_test, y_train, y_test, patient_ids_train, patient_ids_test = train_test_split(\n",
    "    X, y, patient_ids, test_size=0.2, random_state=42, stratify=y\n",
    ")\n",
    "\n",
    "# 🔹 Confirm split\n",
    "print(f\" Data split completed!\")\n",
    "print(f\"Training samples: {X_train.shape[0]}, Testing samples: {X_test.shape[0]}\")\n"
   ]
  },
  {
   "cell_type": "markdown",
   "metadata": {},
   "source": [
    "MODEL TRAINING"
   ]
  },
  {
   "cell_type": "code",
   "execution_count": 30,
   "metadata": {},
   "outputs": [
    {
     "name": "stderr",
     "output_type": "stream",
     "text": [
      "C:\\Users\\ASUS\\AppData\\Local\\Temp\\ipykernel_12176\\3762082923.py:20: DeprecationWarning: Non-integer input passed to bincount. In a future version of NumPy, this will be an error. (Deprecated NumPy 2.1)\n",
      "  scale_pos_weight=np.bincount(y_resampled)[0] / np.bincount(y_resampled)[1],\n"
     ]
    },
    {
     "name": "stdout",
     "output_type": "stream",
     "text": [
      "[LightGBM] [Info] Number of positive: 1219, number of negative: 1219\n",
      "[LightGBM] [Info] Auto-choosing col-wise multi-threading, the overhead of testing was 0.000867 seconds.\n",
      "You can set `force_col_wise=true` to remove the overhead.\n",
      "[LightGBM] [Info] Total Bins 10076\n",
      "[LightGBM] [Info] Number of data points in the train set: 2438, number of used features: 51\n",
      "[LightGBM] [Info] [binary:BoostFromScore]: pavg=0.500000 -> initscore=0.000000\n",
      "\n",
      " LightGBM Model Accuracy: 0.9127\n",
      "\n",
      "Confusion Matrix:\n",
      " [[  5  22]\n",
      " [  7 298]]\n",
      "\n",
      "Classification Report:\n",
      "               precision    recall  f1-score   support\n",
      "\n",
      "         0.0       0.42      0.19      0.26        27\n",
      "         1.0       0.93      0.98      0.95       305\n",
      "\n",
      "    accuracy                           0.91       332\n",
      "   macro avg       0.67      0.58      0.61       332\n",
      "weighted avg       0.89      0.91      0.90       332\n",
      "\n"
     ]
    },
    {
     "data": {
      "image/png": "[encoded data removed]",
      "text/plain": [
       "<Figure size 800x500 with 1 Axes>"
      ]
     },
     "metadata": {},
     "output_type": "display_data"
    },
    {
     "data": {
      "image/png": "[encoded data removed]",
      "text/plain": [
       "<Figure size 800x500 with 1 Axes>"
      ]
     },
     "metadata": {},
     "output_type": "display_data"
    },
    {
     "data": {
      "image/png": "[encoded data removed]",
      "text/plain": [
       "<Figure size 800x500 with 1 Axes>"
      ]
     },
     "metadata": {},
     "output_type": "display_data"
    }
   ],
   "source": [
    "import lightgbm as lgb\n",
    "import numpy as np\n",
    "import matplotlib.pyplot as plt\n",
    "from sklearn.model_selection import train_test_split\n",
    "from sklearn.metrics import accuracy_score, classification_report, confusion_matrix, roc_curve, auc\n",
    "from imblearn.over_sampling import SMOTE\n",
    "\n",
    "# Step 1: Split Data\n",
    "X_train, X_test, y_train, y_test = train_test_split(X, y, test_size=0.2, random_state=42, stratify=y)\n",
    "\n",
    "# Step 2: Handle Class Imbalance using SMOTE\n",
    "smote = SMOTE(sampling_strategy='auto', random_state=42)\n",
    "X_resampled, y_resampled = smote.fit_resample(X_train, y_train)\n",
    "\n",
    "# Step 3: Define LightGBM Model\n",
    "lgb_model = lgb.LGBMClassifier(\n",
    "    boosting_type='gbdt',\n",
    "    objective='binary',\n",
    "    is_unbalance=True,\n",
    "    scale_pos_weight=np.bincount(y_resampled)[0] / np.bincount(y_resampled)[1],\n",
    "    num_leaves=31,\n",
    "    max_depth=-1,\n",
    "    learning_rate=0.05,\n",
    "    n_estimators=200,\n",
    "    random_state=42\n",
    ")\n",
    "\n",
    "# Step 4: Train the Model & Track Loss and Accuracy\n",
    "evals_result = {}  # Dictionary to store evaluation results\n",
    "lgb_model.fit(\n",
    "    X_resampled, y_resampled,\n",
    "    eval_set=[(X_test, y_test)],\n",
    "    eval_metric=['logloss', 'error'],  # Track log loss & error rate\n",
    "    callbacks=[lgb.record_evaluation(evals_result)]\n",
    ")\n",
    "\n",
    "# Step 5: Make Predictions\n",
    "y_pred = lgb_model.predict(X_test)\n",
    "y_pred_proba = lgb_model.predict_proba(X_test)[:, 1]  # Get probability scores for ROC curve\n",
    "\n",
    "# Step 6: Evaluate Performance\n",
    "accuracy = accuracy_score(y_test, y_pred)\n",
    "conf_matrix = confusion_matrix(y_test, y_pred)\n",
    "report = classification_report(y_test, y_pred)\n",
    "\n",
    "print(f'\\n LightGBM Model Accuracy: {accuracy:.4f}\\n')\n",
    "print('Confusion Matrix:\\n', conf_matrix)\n",
    "print('\\nClassification Report:\\n', report)\n",
    "\n",
    "# Step 7: Plot Loss Curve\n",
    "plt.figure(figsize=(8, 5))\n",
    "plt.plot(evals_result[\"valid_0\"][\"binary_logloss\"], label=\"Validation Loss\", color=\"blue\")\n",
    "plt.xlabel(\"Iteration\")\n",
    "plt.ylabel(\"Log Loss\")\n",
    "plt.title(\"LightGBM Training Loss Curve\")\n",
    "plt.legend()\n",
    "plt.show()\n",
    "\n",
    "# Step 8: Plot Accuracy Curve (1 - Error Rate)\n",
    "plt.figure(figsize=(8, 5))\n",
    "accuracy_curve = [1 - e for e in evals_result[\"valid_0\"][\"binary_error\"]]  # Convert error rate to accuracy\n",
    "plt.plot(accuracy_curve, label=\"Validation Accuracy\", color=\"green\")\n",
    "plt.xlabel(\"Iteration\")\n",
    "plt.ylabel(\"Accuracy\")\n",
    "plt.title(\"LightGBM Training Accuracy Curve\")\n",
    "plt.legend()\n",
    "plt.show()\n",
    "\n",
    "# Step 9: Plot ROC & AUC Curve\n",
    "fpr, tpr, _ = roc_curve(y_test, y_pred_proba)\n",
    "roc_auc = auc(fpr, tpr)\n",
    "\n",
    "plt.figure(figsize=(8, 5))\n",
    "plt.plot(fpr, tpr, color='darkorange', lw=2, label=f'ROC curve (AUC = {roc_auc:.4f})')\n",
    "plt.plot([0, 1], [0, 1], color='navy', lw=2, linestyle='--')  # Diagonal line\n",
    "plt.xlim([0.0, 1.0])\n",
    "plt.ylim([0.0, 1.05])\n",
    "plt.xlabel('False Positive Rate')\n",
    "plt.ylabel('True Positive Rate')\n",
    "plt.title('Receiver Operating Characteristic (ROC) Curve')\n",
    "plt.legend(loc='lower right')\n",
    "plt.show()\n",
    "\n"
   ]
  },
  {
   "cell_type": "markdown",
   "metadata": {},
   "source": [
    "LIME INTERPRETATION"
   ]
  },
  {
   "cell_type": "code",
   "execution_count": 32,
   "metadata": {},
   "outputs": [
    {
     "name": "stderr",
     "output_type": "stream",
     "text": [
      "d:\\8th Semester\\testing\\venv\\Lib\\site-packages\\sklearn\\utils\\validation.py:2739: UserWarning: X does not have valid feature names, but LGBMClassifier was fitted with feature names\n",
      "  warnings.warn(\n"
     ]
    },
    {
     "data": {
      "text/plain": [
       "True"
      ]
     },
     "execution_count": 32,
     "metadata": {},
     "output_type": "execute_result"
    }
   ],
   "source": [
    "# LIME Explanation for LightGBM\n",
    "import lime\n",
    "import lime.lime_tabular\n",
    "import numpy as np\n",
    "\n",
    "# Convert test set to NumPy array\n",
    "X_test_array = X_test.values\n",
    "\n",
    "# Initialize LIME Explainer\n",
    "explainer = lime.lime_tabular.LimeTabularExplainer(\n",
    "    training_data=X_train.values,\n",
    "    feature_names=X_train.columns.tolist(),\n",
    "    class_names=[\"No CKD\", \"CKD\"],\n",
    "    mode='classification'\n",
    ")\n",
    "\n",
    "# Choose the instance index you want to explain\n",
    "i = 0  # First instance\n",
    "\n",
    "# Explain the prediction\n",
    "exp = explainer.explain_instance(\n",
    "    data_row=X_test_array[i],\n",
    "    predict_fn=lgb_model.predict_proba,\n",
    "    num_features=10  # Show top 10 important features\n",
    ")\n",
    "\n",
    "# Save the explanation as HTML and open in browser\n",
    "file_path = f'lime_explanation_instance_{i}.html'\n",
    "exp.save_to_file(file_path)\n",
    "\n",
    "import webbrowser\n",
    "webbrowser.open(file_path)\n"
   ]
  }
 ],
 "metadata": {
  "kernelspec": {
   "display_name": "venv",
   "language": "python",
   "name": "python3"
  },
  "language_info": {
   "codemirror_mode": {
    "name": "ipython",
    "version": 3
   },
   "file_extension": ".py",
   "mimetype": "text/x-python",
   "name": "python",
   "nbconvert_exporter": "python",
   "pygments_lexer": "ipython3",
   "version": "3.13.2"
  }
 },
 "nbformat": 4,
 "nbformat_minor": 2
}
